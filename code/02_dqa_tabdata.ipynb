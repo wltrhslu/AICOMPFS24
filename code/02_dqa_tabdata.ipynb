{
 "cells": [
  {
   "cell_type": "markdown",
   "metadata": {},
   "source": [
    "# Tabular DQA  \n",
    "In this notebook we will evaluate the quality of the tabular data in the dataset from[kaggle page](https://www.kaggle.com/c/cassava-leaf-disease-classification/data):"
   ]
  },
  {
   "cell_type": "markdown",
   "metadata": {},
   "source": [
    "## 1 - Setup"
   ]
  },
  {
   "cell_type": "code",
   "execution_count": null,
   "metadata": {},
   "outputs": [],
   "source": [
    "import pandas as pd\n",
    "import numpy as np\n",
    "import matplotlib.pyplot as plt\n",
    "from ydata_profiling import ProfileReport\n",
    "from PIL import Image"
   ]
  },
  {
   "cell_type": "code",
   "execution_count": null,
   "metadata": {},
   "outputs": [],
   "source": [
    "REMOVE_DUPLICATES = True\n",
    "REMOVE_NULL = True\n",
    "BASE_PATH = \"../data\""
   ]
  },
  {
   "cell_type": "markdown",
   "metadata": {},
   "source": [
    "### 1.1 - Helper Functions"
   ]
  },
  {
   "cell_type": "code",
   "execution_count": null,
   "metadata": {},
   "outputs": [],
   "source": [
    "def plot_hist(dataset, columns_to_plot):\n",
    "    fig, axs = plt.subplots(3, 4, figsize=(20, 15))\n",
    "    fig.subplots_adjust(hspace=0.5, wspace=0.3)\n",
    "\n",
    "    for i, column in enumerate(columns_to_plot):\n",
    "        row = i // 4\n",
    "        col = i % 4\n",
    "\n",
    "        axs[row, col].hist(dataset[column], bins=50, alpha=0.7, color=\"blue\", edgecolor=\"black\")\n",
    "        axs[row, col].set_title(f\"Histogram of {column}\")\n",
    "        axs[row, col].set_xlabel(column)\n",
    "        axs[row, col].set_ylabel(\"Frequency\")\n",
    "        axs[row, col].set_yscale(\"log\")\n",
    "        axs[row, col].grid(True)\n",
    "\n",
    "    for i in range(len(columns_to_plot), 12):\n",
    "        fig.delaxes(axs.flatten()[i])\n",
    "\n",
    "    plt.tight_layout()\n",
    "    plt.show()"
   ]
  },
  {
   "cell_type": "code",
   "execution_count": null,
   "metadata": {},
   "outputs": [],
   "source": [
    "def display_images(df):\n",
    "    num_cols = 5\n",
    "    num_rows = (len(df) - 1) // num_cols + 1\n",
    "\n",
    "    fig, axs = plt.subplots(num_rows, num_cols, figsize=(15, 20))\n",
    "    for i, (index, row) in enumerate(df.iterrows()):\n",
    "        id = row[\"id\"].astype(int)\n",
    "        image_path = BASE_PATH + f\"/train_images/{id}.jpeg\"\n",
    "        img = Image.open(image_path)\n",
    "        ax = axs[i // num_cols, i % num_cols]\n",
    "        ax.imshow(img)\n",
    "        ax.axis(\"off\")\n",
    "        ax.set_title(f\"ID: {id}\")\n",
    "\n",
    "    for j in range(len(df), num_rows*num_cols):\n",
    "        axs.flatten()[j].set_visible(False)\n",
    "\n",
    "    plt.tight_layout()\n",
    "    plt.show()"
   ]
  },
  {
   "cell_type": "markdown",
   "metadata": {},
   "source": [
    "## 2 - Data Loading"
   ]
  },
  {
   "cell_type": "code",
   "execution_count": null,
   "metadata": {},
   "outputs": [],
   "source": [
    "train = pd.read_csv(BASE_PATH + \"/train.csv\")\n",
    "test = pd.read_csv(BASE_PATH + \"/test.csv\")"
   ]
  },
  {
   "cell_type": "code",
   "execution_count": null,
   "metadata": {},
   "outputs": [],
   "source": [
    "TRAIN_TARGET = train.iloc[:, np.r_[0, 164:176]]\n",
    "COLUMNS_TO_PLOT = [col for col in TRAIN_TARGET if col != \"id\"]"
   ]
  },
  {
   "cell_type": "markdown",
   "metadata": {},
   "source": [
    "## 3 - Data Quality Analysis\n",
    "### 3.1 - Duplicates and Null Values"
   ]
  },
  {
   "cell_type": "code",
   "execution_count": null,
   "metadata": {},
   "outputs": [],
   "source": [
    "if REMOVE_DUPLICATES:\n",
    "    print(f\"{train.duplicated().sum()} duplicates in train\")\n",
    "    print(f\"{test.duplicated().sum()} duplicates in test\")\n",
    "    if train.duplicated().sum() or test.duplicated().sum():\n",
    "        train = train.drop_duplicates()\n",
    "        test = test.drop_duplicates()\n",
    "        print(\"Duplicates removed\")\n",
    "if REMOVE_NULL:\n",
    "    print(f\"{train.isnull().sum().sum()} nulls in train\")\n",
    "    print(f\"{test.isnull().sum().sum()} nulls in test\")\n",
    "    if train.isnull().sum().sum() or test.isnull().sum().sum():\n",
    "        train = train.dropna()\n",
    "        test = test.dropna()\n",
    "        print(\"Nulls removed\")"
   ]
  },
  {
   "cell_type": "code",
   "execution_count": null,
   "metadata": {},
   "outputs": [],
   "source": [
    "plot_hist(TRAIN_TARGET, COLUMNS_TO_PLOT)"
   ]
  },
  {
   "cell_type": "markdown",
   "metadata": {},
   "source": [
    "### 3.2 - Profiling"
   ]
  },
  {
   "cell_type": "code",
   "execution_count": null,
   "metadata": {},
   "outputs": [],
   "source": [
    "train_profile = ProfileReport(train, title=\"Train.csv Profiling Report\", minimal=True)\n",
    "test_profile = ProfileReport(test, title=\"Test.csv Profiling Report\", minimal=True)"
   ]
  },
  {
   "cell_type": "markdown",
   "metadata": {},
   "source": [
    "### 3.3 - Plant Physiological Parameters (Target Values)\n",
    "\n",
    "This notebook outlines several key physiological parameters relevant to plant science studies. These parameters are crucial for understanding plant function, growth, and adaptation to their environment.\n",
    "\n",
    "#### 3.3.1 - X4: Stem Specific Density (SSD)\n",
    "\n",
    "**Definition**: The Stem Specific Density (SSD) is a measure of wood density calculated as stem dry mass per stem fresh volume. It provides insights into the structural strength and resource allocation of the plant.\n",
    "\n",
    "quantifies woodiness and stem-water content and is determined by dividing the oven dry mass of a stem segment by its fresh volume, expressed in $g*cm^{-3}$. [Link]('https://uol.de/f/5/inst/biologie/ag/landeco/download/LEDA/Standards/Leda-S3-3_stem_traits.pdf').\n",
    "So no values should be below zero.\n",
    "\n",
    "\n"
   ]
  },
  {
   "cell_type": "code",
   "execution_count": null,
   "metadata": {},
   "outputs": [],
   "source": [
    "cleaned_train = train\n",
    "cleaned_train_dummy = train\n",
    "\n",
    "ssd_below_zero = cleaned_train_dummy[cleaned_train_dummy[\"X4_mean\"] < 0]\n",
    "print(f\"{len(ssd_below_zero)} rows with X4_mean below 0\")\n",
    "\n",
    "cleaned_train = cleaned_train.drop(cleaned_train[cleaned_train[\"X4_mean\"] < 0].index)\n",
    "display_images(ssd_below_zero)"
   ]
  },
  {
   "cell_type": "markdown",
   "metadata": {},
   "source": [
    "#### 3.3.2 - X11: Leaf Area per Leaf Dry Mass (SLA)\n",
    "\n",
    "**Definition**: Specific Leaf Area (SLA), also known as 1/LMA (Leaf Mass per Area), is calculated as leaf area per leaf dry mass. This parameter is indicative of the efficiency of leaf construction and has implications for photosynthetic capacity and resource use. [Wikipedia article]('https://en.wikipedia.org/wiki/Specific_leaf_area').\n",
    "\n"
   ]
  },
  {
   "cell_type": "code",
   "execution_count": null,
   "metadata": {},
   "outputs": [],
   "source": [
    "x11_low = cleaned_train_dummy[cleaned_train_dummy[\"X11_mean\"] < 2]\n",
    "x11_high = cleaned_train_dummy[cleaned_train_dummy[\"X11_mean\"] > 100]\n",
    "print(f\"{len(x11_low)} rows with x_11 below 2, {len(x11_high)} rows with x_11 above 100\")\n",
    "\n",
    "#delete all x11_mean below 2 and above 300\n",
    "cleaned_train = cleaned_train.drop(cleaned_train[cleaned_train[\"X11_mean\"] < 2].index)\n",
    "cleaned_train = cleaned_train.drop(cleaned_train[cleaned_train[\"X11_mean\"] > 100].index)\n",
    "display_images(x11_low)\n",
    "display_images(x11_high)\n"
   ]
  },
  {
   "cell_type": "markdown",
   "metadata": {},
   "source": [
    "#### 3.3.3 - X18: Plant Height\n",
    "\n",
    "**Definition**: Plant height is a straightforward yet vital parameter, representing the vertical growth of a plant. It is essential for assessing competitiveness for light and space in plant communities. \n",
    "Plant height refers to the height (PATO:height) of the whole plant (PO:whole plant) as defined on [TraitGloss](https://www.try-db.org/de/TraitGloss.php). \n",
    "\n",
    "**Comment**: It's important to specify the component of the plant measured (vegetative or generative) when known. The term \"canopy height\" is considered polysemic and its use is discouraged in this context.\n",
    "\n",
    "**Abbreviation**: Not specified.\n",
    "**Synonyms**: Shoot height.\n",
    "**Related Terms**: Canopy height.\n",
    "**Formal Unit**: Length unit.\n",
    "\n"
   ]
  },
  {
   "cell_type": "code",
   "execution_count": null,
   "metadata": {},
   "outputs": [],
   "source": [
    "heigt_over_80 = cleaned_train_dummy[cleaned_train_dummy[\"X18_mean\"] > 80]\n",
    "print(f\"{len(heigt_over_80)} rows with a height over 80\")\n",
    "\n",
    "#delete all x18_mean above 80\n",
    "cleaned_train = cleaned_train.drop(cleaned_train[cleaned_train[\"X18_mean\"] > 80].index)\n",
    "cleaned_train[\"X18_mean\"].sort_values(ascending=False).head(10)\n",
    "display_images(heigt_over_80)"
   ]
  },
  {
   "cell_type": "markdown",
   "metadata": {},
   "source": [
    "#### 3.3.4 - X26: Seed Dry Mass\n",
    "\n",
    "**Definition**: Seed dry mass is the weight of a seed when completely dried. It is critical for understanding reproductive strategies, seed dispersal, and germination success. Provided in mg. So anything over 100g seems not realistic.\n",
    "\n"
   ]
  },
  {
   "cell_type": "code",
   "execution_count": null,
   "metadata": {},
   "outputs": [],
   "source": [
    "mass_over_100g = cleaned_train_dummy[cleaned_train_dummy[\"X26_mean\"] > 10000]\n",
    "print(f\"{len(mass_over_100g)} rows with a seed mass over 100g\")\n",
    "\n",
    "#delete all x26_mean above 100000\n",
    "cleaned_train = cleaned_train.drop(cleaned_train[cleaned_train[\"X26_mean\"] > 10000].index)\n",
    "display_images(mass_over_100g)"
   ]
  },
  {
   "cell_type": "markdown",
   "metadata": {},
   "source": [
    "#### 3.3.5 - X50: Leaf Nitrogen Content per Leaf Area\n",
    "\n",
    "**Definition**: This parameter measures the concentration of nitrogen in leaves, expressed per unit leaf area. Nitrogen is a crucial nutrient for plant growth, and its allocation can indicate the plant's nutritional status and photosynthetic efficiency.\n",
    "The ratio of the mass (PATO:mass) of nitrogen (CHEBI:nitrogen atom) in the leaf (PO:leaf) or component thereof, i.e. leaf lamina or leaflet (PO:leaf lamina, PO:leaflet) per respective area (TOP:leaf area, TOP:leaf lamina area, TOP:leaflet area)\n",
    "Comment: Equivalent and convertible to the quantity per area with formal unit: amount unit / area unit. The term concentration is polysemic and we suggest to not use it in this context.\n"
   ]
  },
  {
   "cell_type": "code",
   "execution_count": null,
   "metadata": {},
   "outputs": [],
   "source": [
    "nitro_over_100 = cleaned_train_dummy[cleaned_train_dummy[\"X50_mean\"] > 8]\n",
    "print(f\"{len(nitro_over_100)} rows with nitrogen content over 100\")\n",
    "\n",
    "#remove all nitro over 100\n",
    "cleaned_train = cleaned_train.drop(cleaned_train[cleaned_train[\"X50_mean\"] > 8].index)\n",
    "display_images(nitro_over_100)"
   ]
  },
  {
   "cell_type": "markdown",
   "metadata": {},
   "source": [
    "#### 3.3.6 - X3112: Leaf Area\n",
    "\n",
    "**Definition**: Leaf area is the total surface area of leaves a plant has. For plants with compound leaves, this includes the area of all leaflets. The measurement may or may not include the petiole, depending on the study. It is a fundamental characteristic for understanding photosynthetic potential and water use."
   ]
  },
  {
   "cell_type": "code",
   "execution_count": null,
   "metadata": {},
   "outputs": [],
   "source": [
    "leaf_area_over_200000 = cleaned_train_dummy[cleaned_train_dummy[\"X3112_mean\"] > 75000]\n",
    "print(f\"{len(leaf_area_over_200000)} rows with a leaf area over 200000\")\n",
    "\n",
    "#remove all leaf area over 200000\n",
    "cleaned_train = cleaned_train.drop(cleaned_train[cleaned_train[\"X3112_mean\"] > 75000].index)\n",
    "display_images(leaf_area_over_200000)"
   ]
  },
  {
   "cell_type": "markdown",
   "metadata": {},
   "source": [
    "List the differences in the amount of rows between the original dataset and the cleaned datasets."
   ]
  },
  {
   "cell_type": "code",
   "execution_count": null,
   "metadata": {},
   "outputs": [],
   "source": [
    "print(\"train:\", train.shape)\n",
    "print(\"cleaned_train:\", cleaned_train.shape)\n",
    "print(\"Number of rows cleaned\", len(train) - len(cleaned_train))\n",
    "print(\"test:\", test.shape)"
   ]
  },
  {
   "cell_type": "markdown",
   "metadata": {},
   "source": [
    "### 3.4 - Remove Rows from Image DQA\n",
    "Load the ids of the images that were removed in the image DQA and remove them from the tabular dataset."
   ]
  },
  {
   "cell_type": "code",
   "execution_count": null,
   "metadata": {},
   "outputs": [],
   "source": [
    "image_train_removed_id = pd.read_csv(BASE_PATH + \"/train_ids_to_remove.csv\")\n",
    "image_test_removed_id = pd.read_csv(BASE_PATH + \"/val_ids_to_remove.csv\")"
   ]
  },
  {
   "cell_type": "code",
   "execution_count": null,
   "metadata": {},
   "outputs": [],
   "source": [
    "cleaned_train = cleaned_train[~cleaned_train[\"id\"].isin(image_train_removed_id[\"id\"])]\n",
    "test = test[~test[\"id\"].isin(image_test_removed_id[\"id\"])]"
   ]
  },
  {
   "cell_type": "code",
   "execution_count": null,
   "metadata": {},
   "outputs": [],
   "source": [
    "CLEANED_TRAIN_TARGET = cleaned_train.iloc[:, np.r_[0, 164:176]]"
   ]
  },
  {
   "cell_type": "code",
   "execution_count": null,
   "metadata": {},
   "outputs": [],
   "source": [
    "plot_hist(CLEANED_TRAIN_TARGET, COLUMNS_TO_PLOT)"
   ]
  },
  {
   "cell_type": "markdown",
   "metadata": {},
   "source": [
    "### 3.5 - Save Cleaned Dataset"
   ]
  },
  {
   "cell_type": "code",
   "execution_count": null,
   "metadata": {},
   "outputs": [],
   "source": [
    "cleaned_train.to_csv(BASE_PATH + \"/cleaned/cleaned_train.csv\", index=False)\n",
    "test.to_csv(BASE_PATH + \"/cleaned/cleaned_test.csv\", index=False) "
   ]
  }
 ],
 "metadata": {
  "kernelspec": {
   "display_name": "Python 3",
   "language": "python",
   "name": "python3"
  },
  "language_info": {
   "codemirror_mode": {
    "name": "ipython",
    "version": 3
   },
   "file_extension": ".py",
   "mimetype": "text/x-python",
   "name": "python",
   "nbconvert_exporter": "python",
   "pygments_lexer": "ipython3",
   "version": "3.11.9"
  }
 },
 "nbformat": 4,
 "nbformat_minor": 2
}
