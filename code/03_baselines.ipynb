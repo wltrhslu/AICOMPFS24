{
 "cells": [
  {
   "cell_type": "markdown",
   "metadata": {},
   "source": [
    "# Baselines\n",
    "Here we will calculate some simple baseline predictions for future comparisons. The following methods will be used for the calculations:\n",
    "- mean\n",
    "- informed random\n",
    "- median\n",
    "\n",
    "The prediction column names are:\n",
    "- X4:&emsp;&emsp;&ensp;Stem specific density (SSD) or wood density (stem dry mass per stem fresh volume)\n",
    "- X11:&emsp;&emsp;Leaf area per leaf dry mass (specific leaf area, SLA or 1/LMA)\n",
    "- X18:&emsp;&emsp;Plant height\n",
    "- X50:&emsp;&emsp;Seed dry mass\n",
    "- X26:&emsp;&emsp;Leaf nitrogen (N) content per leaf area \n",
    "- X3112:&emsp;Leaf area (in case of compound leaves: leaf, undefined if petiole in- or excluded)"
   ]
  },
  {
   "cell_type": "markdown",
   "metadata": {},
   "source": [
    "## 1 - Setup\n",
    "Import the needed packages and load the train dataset"
   ]
  },
  {
   "cell_type": "code",
   "execution_count": null,
   "metadata": {},
   "outputs": [],
   "source": [
    "import pandas as pd\n",
    "\n",
    "import numpy as np\n",
    "\n",
    "import xgboost as xgb\n",
    "\n",
    "from sklearn.model_selection import KFold, cross_val_score"
   ]
  },
  {
   "cell_type": "code",
   "execution_count": null,
   "metadata": {},
   "outputs": [],
   "source": [
    "FOLDER_PATH = \"../data\"\n",
    "SUBMISSIONS_PATH = \"../submissions\"\n",
    "PREDICTION_COLUMNS = ['X4', 'X11', 'X18', 'X50', 'X26', 'X3112']"
   ]
  },
  {
   "cell_type": "markdown",
   "metadata": {},
   "source": [
    "## 2 - Data Preparation\n",
    "Load the datasets and set the target columns in the test set to 0"
   ]
  },
  {
   "cell_type": "code",
   "execution_count": null,
   "metadata": {},
   "outputs": [],
   "source": [
    "test_dataset = pd.read_csv(FOLDER_PATH + \"/test.csv\")\n",
    "test_dataset = test_dataset.filter([\"id\"])\n",
    "for column in PREDICTION_COLUMNS:\n",
    "    test_dataset[column] = 0\n",
    "test_dataset.describe()"
   ]
  },
  {
   "cell_type": "code",
   "execution_count": null,
   "metadata": {},
   "outputs": [],
   "source": [
    "train_dataset = pd.read_csv(FOLDER_PATH + \"/cleaned/cleaned_train.csv\")"
   ]
  },
  {
   "cell_type": "markdown",
   "metadata": {},
   "source": [
    "## 2 - Baseline Calculations\n",
    "We'll filter out all the columns that contain auxilliary information, as these are not needed for baseline calculations\n",
    "- WORLDCLIM*\n",
    "- SOIL*\n",
    "- MODIS*\n",
    "- VOD*"
   ]
  },
  {
   "cell_type": "code",
   "execution_count": null,
   "metadata": {},
   "outputs": [],
   "source": [
    "for column in [\"WORLDCLIM\", \"SOIL\", \"MODIS\", \"VOD\", \"_sd\", \"image\", \"id\"]:\n",
    "\ttrain_dataset.drop(labels=list(train_dataset.filter(regex=column)), inplace=True, axis=1)"
   ]
  },
  {
   "cell_type": "markdown",
   "metadata": {},
   "source": [
    "### 2.1 - Mean\n",
    "The mean of the target variable will be calculated for each species and used as the first baseline prediction."
   ]
  },
  {
   "cell_type": "code",
   "execution_count": null,
   "metadata": {},
   "outputs": [],
   "source": [
    "mean_values = train_dataset.mean()\n",
    "mean_submission = test_dataset.copy(deep=True)\n",
    "for column in PREDICTION_COLUMNS:\n",
    "    mean_submission[column] = mean_values[f\"{column}_mean\"]\n",
    "mean_submission.to_csv(SUBMISSIONS_PATH + \"/mean_submission.csv\", index=False)\n",
    "mean_submission.head()"
   ]
  },
  {
   "cell_type": "markdown",
   "metadata": {},
   "source": [
    "With this submission, we received a score of -0.08377"
   ]
  },
  {
   "cell_type": "markdown",
   "metadata": {},
   "source": [
    "### 2.2 - Informed Random\n",
    "For the informed random baseline, we will let numpy choose a random value from the target variable's distribution for each species."
   ]
  },
  {
   "cell_type": "code",
   "execution_count": null,
   "metadata": {},
   "outputs": [],
   "source": [
    "informed_random_submission = test_dataset.copy(deep=True)\n",
    "for column in PREDICTION_COLUMNS:\n",
    "    size = informed_random_submission.shape[0]\n",
    "    informed_random_submission[column] = np.random.choice(train_dataset[f\"{column}_mean\"], size)\n",
    "informed_random_submission.to_csv(SUBMISSIONS_PATH + \"/informed_random_submission.csv\", index=False)\n",
    "informed_random_submission.head()"
   ]
  },
  {
   "cell_type": "markdown",
   "metadata": {},
   "source": [
    "The informed random submission got a score of -7.63431"
   ]
  },
  {
   "cell_type": "markdown",
   "metadata": {},
   "source": [
    "### 2.3 - Median\n",
    "The median of the target variable will be calculated for each species and used as the third baseline prediction."
   ]
  },
  {
   "cell_type": "code",
   "execution_count": null,
   "metadata": {},
   "outputs": [],
   "source": [
    "median_sumbission = test_dataset.copy(deep=True)\n",
    "for column in PREDICTION_COLUMNS:\n",
    "    median_sumbission[column] = train_dataset[f\"{column}_mean\"].median()\n",
    "median_sumbission.to_csv(SUBMISSIONS_PATH + \"/median_sumbission.csv\", index=False)\n",
    "median_sumbission.head()"
   ]
  },
  {
   "cell_type": "markdown",
   "metadata": {},
   "source": [
    "The median submission got a score of -0.07111. This is the best score of the three baseline predictions.\n",
    "\n",
    "### 2.4 - Gradient Boosting"
   ]
  },
  {
   "cell_type": "code",
   "execution_count": null,
   "metadata": {},
   "outputs": [],
   "source": [
    "train = pd.read_csv(FOLDER_PATH + \"/cleaned/cleaned_train.csv\")\n",
    "test = pd.read_csv(FOLDER_PATH + \"/test.csv\")\n",
    "\n",
    "# not worring about \"_sd\" columns for now\n",
    "sd_columns = [col for col in train.columns if col.endswith(\"_sd\")]\n",
    "train = train.drop(columns=sd_columns)\n",
    "\n",
    "#our targets\n",
    "mean_columns = [\"X4_mean\", \"X11_mean\", \"X18_mean\", \"X50_mean\", \"X26_mean\", \"X3112_mean\"]"
   ]
  },
  {
   "cell_type": "code",
   "execution_count": null,
   "metadata": {},
   "outputs": [],
   "source": [
    "X_full = train.drop(columns=mean_columns)\n",
    "Y_full = train[mean_columns]"
   ]
  },
  {
   "cell_type": "code",
   "execution_count": null,
   "metadata": {},
   "outputs": [],
   "source": [
    "models = {}\n",
    "\n",
    "for column in Y_full.columns:\n",
    "\n",
    "    model = xgb.XGBRegressor(objective=\"reg:squarederror\",\n",
    "                             n_estimators=150, learning_rate=0.1, max_depth=10)\n",
    "\n",
    "    print(f\"\\nDoing cross-validation scoring for {column}...\")\n",
    "    scores = cross_val_score(model, X_full, Y_full[column], cv=KFold(\n",
    "        n_splits=3, shuffle=True, random_state=42), scoring=\"r2\")\n",
    "    print(f\"R^2 score for {column}: {np.mean(scores)}\")\n",
    "\n",
    "    print(f\"Training model for {column}...\")\n",
    "    model.fit(X_full, Y_full[column])\n",
    "    models[column] = model"
   ]
  },
  {
   "cell_type": "code",
   "execution_count": null,
   "metadata": {},
   "outputs": [],
   "source": [
    "mean_values = Y_full.mean()\n",
    "submission = pd.DataFrame({\"id\": test[\"id\"]})\n",
    "submission[Y_full.columns] = mean_values\n",
    "\n",
    "submission.columns = submission.columns.str.replace(\"_mean\", \"\")\n",
    "submission[\"X4\"] = models[\"X4_mean\"].predict(test)\n",
    "submission[\"X11\"] = models[\"X11_mean\"].predict(test)\n",
    "submission[\"X18\"] = models[\"X18_mean\"].predict(test)\n",
    "submission[\"X50\"] = models[\"X50_mean\"].predict(test)\n",
    "submission[\"X26\"] = models[\"X26_mean\"].predict(test)\n",
    "submission[\"X3112\"] = models[\"X3112_mean\"].predict(test)\n",
    "\n",
    "submission.to_csv(SUBMISSIONS_PATH + \"/gradient_boosting.csv\", index=False)"
   ]
  }
 ],
 "metadata": {
  "kernelspec": {
   "display_name": "Python 3",
   "language": "python",
   "name": "python3"
  },
  "language_info": {
   "codemirror_mode": {
    "name": "ipython",
    "version": 3
   },
   "file_extension": ".py",
   "mimetype": "text/x-python",
   "name": "python",
   "nbconvert_exporter": "python",
   "pygments_lexer": "ipython3",
   "version": "3.11.9"
  }
 },
 "nbformat": 4,
 "nbformat_minor": 2
}
